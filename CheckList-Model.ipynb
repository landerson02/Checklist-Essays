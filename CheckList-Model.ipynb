{
 "cells": [
  {
   "cell_type": "code",
   "execution_count": null,
   "outputs": [],
   "source": [
    "from Models.FakeModel import Model\n",
    "from Models.FLAN_T5 import Flan\n",
    "\n",
    "# import numpy as np\n",
    "from checklist.editor import Editor\n",
    "# from checklist.perturb import Perturb\n",
    "# from checklist.test_types import MFT, INV, DIR\n",
    "# from checklist.pred_wrapper import PredictorWrapper\n",
    "\n",
    "import csv"
   ],
   "metadata": {
    "collapsed": false
   },
   "id": "df32c724dadfb230"
  },
  {
   "cell_type": "code",
   "execution_count": null,
   "outputs": [],
   "source": [
    "editor = Editor();"
   ],
   "metadata": {
    "collapsed": false
   },
   "id": "83d13a4369b5d5b6"
  },
  {
   "cell_type": "markdown",
   "source": [
    "# Select one of the cells below to choose which model to test"
   ],
   "metadata": {
    "collapsed": false
   },
   "id": "65112af93d830b80"
  },
  {
   "cell_type": "markdown",
   "source": [
    "## FakeModel"
   ],
   "metadata": {
    "collapsed": false
   },
   "id": "42f31abe7aaf0aad"
  },
  {
   "cell_type": "code",
   "execution_count": null,
   "outputs": [],
   "source": [
    "# model = Model(\"test\")\n",
    "\n",
    "# res = model()\n",
    "# print(res)"
   ],
   "metadata": {
    "collapsed": false
   },
   "id": "55ccddc8e82178f2"
  },
  {
   "cell_type": "markdown",
   "source": [
    "## FLAN-T5"
   ],
   "metadata": {
    "collapsed": false
   },
   "id": "b2798c332c999cc3"
  },
  {
   "cell_type": "code",
   "execution_count": null,
   "outputs": [],
   "source": [
    "model = Flan()\n",
    "filename = \"FLAN_T5_tests.csv\"\n",
    "# res = model.get_results(\"test\")\n",
    "# print(res)"
   ],
   "metadata": {
    "collapsed": false
   },
   "id": "4259d52ef9fd2119"
  },
  {
   "cell_type": "markdown",
   "source": [
    "## Bloom"
   ],
   "metadata": {
    "collapsed": false
   },
   "id": "349cf744424990ca"
  },
  {
   "cell_type": "code",
   "execution_count": null,
   "outputs": [],
   "source": [
    "# TBD"
   ],
   "metadata": {
    "collapsed": false
   },
   "id": "350fc722e65f1840"
  },
  {
   "cell_type": "markdown",
   "source": [
    "## Roberta"
   ],
   "metadata": {
    "collapsed": false
   },
   "id": "e4326b525bf6cd57"
  },
  {
   "cell_type": "code",
   "execution_count": null,
   "outputs": [],
   "source": [
    "# TBD"
   ],
   "metadata": {
    "collapsed": false
   },
   "id": "364b4d88e7858d71"
  },
  {
   "cell_type": "markdown",
   "source": [],
   "metadata": {
    "collapsed": false
   },
   "id": "6ceefa17a9686879"
  },
  {
   "cell_type": "markdown",
   "source": [
    "## Valid Definitions"
   ],
   "metadata": {
    "collapsed": false
   },
   "id": "e543a00c0dd10ae4"
  },
  {
   "cell_type": "code",
   "execution_count": null,
   "outputs": [],
   "source": [
    "PE_ACCEPTABLE = [\n",
    "    \"energy at rest\",\n",
    "    \"energy that a body has because of its position relative to other bodies\",\n",
    "    \"energy stored in the car at the top of the initial drop\",\n",
    "]\n",
    "PE_UNACCEPTABLE = [\n",
    "    \"energy in motion\",\n",
    "    \"energy lost as the car goes down the hill\",\n",
    "    \"opposite of kinetic energy\",\n",
    "]\n",
    "PE_INSUFFICIENT = [\n",
    "    \"4 Joules at the top of the roller coaster\",\n",
    "    \"measured in Joules\",\n",
    "    \"equal to m*h*9.8\",\n",
    "]\n",
    "\n",
    "KE_ACCEPTABLE = [\n",
    "    \"energy in motion\",\n",
    "    \"energy that the car has because it is moving\",\n",
    "    \"the work needed to accelerate the roller coaster car from rest\",\n",
    "]\n",
    "KE_UNACCEPTABLE = [\n",
    "    \"energy at rest\",\n",
    "    \"never lost nor gained as the car moves\",\n",
    "    \"the opposite of potantial energy\",\n",
    "]\n",
    "KE_INSUFFICIENT = [\n",
    "    \"4 Joules at the bottom of the roller coaster\",\n",
    "    \"measured in Joules\",\n",
    "    \"equal to .5*m*v^2\",\n",
    "]\n",
    "\n",
    "LCE_ACCEPTABLE = [\n",
    "    \"energy cannot be created or destroyed, only transformed\",\n",
    "    \"the total energy of an isolated system remains constant\",\n",
    "    \"energy can be converted from one form to another, but never created or destroyed\",\n",
    "]\n",
    "LCE_UNACCEPTABLE = [\n",
    "    \"energy can be created or destroyed, not transformed\",\n",
    "    \"the total energy of an isolated system will change\",\n",
    "]\n",
    "LCE_INSUFFICIENT = [\n",
    "    \"K1 + U1 = K2 + U2\",\n",
    "    \"potential energy transforms into kinetic energy\",\n",
    "    \"As the car goes down the hill, some energy is lost to friction as heat\",\n",
    "]\n"
   ],
   "metadata": {
    "collapsed": false
   },
   "id": "2ce9daafda966444"
  },
  {
   "cell_type": "markdown",
   "source": [
    "## Function for getting data and frequencies"
   ],
   "metadata": {
    "collapsed": false
   },
   "id": "316264aa42e0c19b"
  },
  {
   "cell_type": "code",
   "execution_count": null,
   "outputs": [],
   "source": [
    "def getData(samples, expected):\n",
    "    fails = 0\n",
    "    data = [{\"sample\": \"\", \"expected\" : {}, \"actual\": {}, \"results\": {}} for _ in range(len(samples.data))]\n",
    "    for i, sample in enumerate(samples.data):\n",
    "        data[i][\"sample\"] = sample\n",
    "        data[i][\"expected\"] = expected\n",
    "        d = model.get_results(sample)\n",
    "        data[i][\"actual\"] = d\n",
    "        label = d['PE'] if len(d['PE']) != 0 else d['KE'] if len(d['KE']) != 0 else d['LCE']\n",
    "        score = 0\n",
    "        if expected['PE'] == d['PE']:\n",
    "            score += 1\n",
    "            data[i][\"results\"][\"PE\"] = \"PASS\"\n",
    "        else:\n",
    "            data[i][\"results\"][\"PE\"] = \"FAIL\"\n",
    "        if expected['KE'] == d['KE']:\n",
    "            score += 1\n",
    "            data[i][\"results\"][\"KE\"] = \"PASS\"\n",
    "        else:\n",
    "            data[i][\"results\"][\"KE\"] = \"FAIL\"\n",
    "        if expected['LCE'] == d['LCE']:\n",
    "            score += 1\n",
    "            data[i][\"results\"][\"LCE\"] = \"PASS\"\n",
    "        else:\n",
    "            data[i][\"results\"][\"LCE\"] = \"FAIL\"\n",
    "            \n",
    "        if score != 3:\n",
    "            print(\"FAIL: \" + sample)\n",
    "            print(\" Actual: \" + str(d))\n",
    "            print(\" Expected: \" + str(expected))\n",
    "            data[i][\"results\"][\"Overall\"] = \"FAIL\"\n",
    "            fails += 1\n",
    "        else:\n",
    "            print(\"PASS: \" + sample)\n",
    "            print(\" Actual: \" + str(d))\n",
    "            print(\" Expected: \" + str(expected))\n",
    "            data[i][\"results\"][\"Overall\"] = \"PASS\"\n",
    "        \n",
    "    print(str(fails) + \" fails out of \" + str(len(samples.data)) + \" tests\")\n",
    "    return data\n"
   ],
   "metadata": {
    "collapsed": false
   },
   "id": "2756ff837059356d"
  },
  {
   "cell_type": "code",
   "execution_count": null,
   "outputs": [],
   "source": [
    "with open(filename, mode='w', newline='') as file:\n",
    "    writer = csv.writer(file)\n",
    "    writer.writerows([[\"Test Category\", \"Test Type\", \"Test Description\", \"Sample\",\n",
    "                       \"Expected PE\", \"Expected KE\", \"Expected LCE\",\n",
    "                       \"Actual PE\", \"Actual KE,\", \"Actual LCE\",\n",
    "                       \"PE Result\", \"KE Result\", \"LCE Result\", \"Overall Result\"]])\n",
    "    print(\"Successfully created file\")\n",
    "\n",
    "def writeData(category, type, description, data):\n",
    "    rows = [[] for _ in range(len(data))]\n",
    "    for i in range(len(data)):\n",
    "        rows[i] = ([category,\n",
    "                    type,\n",
    "                   description,\n",
    "                   data[i][\"sample\"],\n",
    "                   data[i][\"expected\"][\"PE\"],\n",
    "                   data[i][\"expected\"][\"KE\"],\n",
    "                   data[i][\"expected\"][\"LCE\"],\n",
    "                   data[i][\"actual\"][\"PE\"],\n",
    "                   data[i][\"actual\"][\"KE\"],\n",
    "                   data[i][\"actual\"][\"LCE\"],\n",
    "                   data[i][\"results\"][\"PE\"],\n",
    "                   data[i][\"results\"][\"KE\"],\n",
    "                   data[i][\"results\"][\"LCE\"],\n",
    "                   data[i][\"results\"][\"Overall\"]])\n",
    "        \n",
    "        \n",
    "    with open(filename, mode='a', newline='') as file:\n",
    "        writer = csv.writer(file)\n",
    "        writer.writerows(rows)\n",
    "    return"
   ],
   "metadata": {
    "collapsed": false
   },
   "id": "cbb27cf8cad9c9d"
  },
  {
   "cell_type": "markdown",
   "source": [
    "# Knowledge\n",
    "\n",
    "## Minimum Functionality Tests\n",
    "### Check for acceptable definitions\n",
    "Should return acceptable"
   ],
   "metadata": {
    "collapsed": false
   },
   "id": "26b6f93956a668bb"
  },
  {
   "cell_type": "code",
   "execution_count": null,
   "outputs": [],
   "source": [
    "samples = editor.template(\n",
    "    \"Potential energy is {pe_acceptable}\", \n",
    "    pe_acceptable=PE_ACCEPTABLE\n",
    ")\n",
    "data = getData(samples, {\"PE\": \"Acceptable\", \"KE\": \"Not Found\", \"LCE\": \"Not Found\"})\n",
    "\n",
    "samples = editor.template(\n",
    "    \"Kinetic energy is {ke_acceptable}\",\n",
    "    ke_acceptable=KE_ACCEPTABLE\n",
    ")\n",
    "data += getData(samples, {\"PE\": \"Not Found\", \"KE\": \"Acceptable\", \"LCE\": \"Not Found\"})\n",
    "\n",
    "samples = editor.template(\n",
    "    \"The Law of Conservation of energy states {lce_acceptable}.\",\n",
    "    lce_acceptable=LCE_ACCEPTABLE\n",
    ")\n",
    "data += getData(samples, {\"PE\": \"Not Found\", \"KE\": \"Not Found\", \"LCE\": \"Acceptable\"})\n",
    "\n",
    "writeData(\"Knowledge\", \"MFT\", \"Correct definitions\", data)\n",
    "# print(data)"
   ],
   "metadata": {
    "collapsed": false
   },
   "id": "8eb7dcc5a7653bd3"
  },
  {
   "cell_type": "markdown",
   "source": [
    "### Check for unacceptable definitions\n",
    "should return unacceptable"
   ],
   "metadata": {
    "collapsed": false
   },
   "id": "4ac08040e7d3582b"
  },
  {
   "cell_type": "code",
   "execution_count": null,
   "outputs": [],
   "source": [
    "samples = editor.template(\n",
    "    \"Potential energy is {pe_unacceptable}\",\n",
    "    pe_unacceptable=PE_UNACCEPTABLE\n",
    ")\n",
    "data = getData(samples, {\"PE\": \"Unacceptable\", \"KE\": \"Not Found\", \"LCE\": \"Not Found\"})\n",
    "\n",
    "samples = editor.template(\n",
    "    \"Kinetic energy is {ke_unacceptable}\",\n",
    "    ke_unacceptable=KE_UNACCEPTABLE\n",
    ")\n",
    "data += getData(samples, {\"PE\": \"Not Found\", \"KE\": \"Unacceptable\", \"LCE\": \"Not Found\"})\n",
    "\n",
    "samples = editor.template(\n",
    "    \"The Law of Conservation of energy states {lce_unacceptable}.\",\n",
    "    lce_unacceptable=LCE_UNACCEPTABLE\n",
    ")\n",
    "data += getData(samples, {\"PE\": \"Not Found\", \"KE\": \"Not Found\", \"LCE\": \"Unacceptable\"})\n",
    "\n",
    "writeData(\"Knowledge\", \"MFT\", \"Incorrect definitions\", data)"
   ],
   "metadata": {
    "collapsed": false
   },
   "id": "8660cf26eaebe45f"
  },
  {
   "cell_type": "markdown",
   "source": [
    "### Check insufficient definitions\n",
    "should return insufficient"
   ],
   "metadata": {
    "collapsed": false
   },
   "id": "41633acc20c4ab92"
  },
  {
   "cell_type": "code",
   "execution_count": null,
   "outputs": [],
   "source": [
    "samples = editor.template(\n",
    "    \"Potential energy is {pe_insufficient}\",\n",
    "    pe_insufficient=PE_INSUFFICIENT\n",
    ")\n",
    "data = getData(samples, {\"PE\": \"Insufficient\", \"KE\": \"Not Found\", \"LCE\": \"Not Found\"})\n",
    "\n",
    "samples = editor.template(\n",
    "    \"Kinetic energy is {ke_insufficient}\",\n",
    "    ke_insufficient=KE_INSUFFICIENT\n",
    ")\n",
    "data += getData(samples, {\"PE\": \"Not Found\", \"KE\": \"Insufficient\", \"LCE\": \"Not Found\"})\n",
    "\n",
    "samples = editor.template(\n",
    "    \"The Law of Conservation of energy states {lce_insufficient}.\",\n",
    "    lce_insufficient=LCE_INSUFFICIENT\n",
    ")\n",
    "data += getData(samples, {\"PE\": \"Not Found\", \"KE\": \"Not Found\", \"LCE\": \"Insufficient\"})\n",
    "\n",
    "writeData(\"Knowledge\", \"MFT\", \"Insufficient definitions\", data)"
   ],
   "metadata": {
    "collapsed": false
   },
   "id": "fd9a389d3b29ad9e"
  },
  {
   "cell_type": "markdown",
   "source": [
    "### Unrelated Sentences\n",
    "Should return Not Found"
   ],
   "metadata": {
    "collapsed": false
   }
  },
  {
   "cell_type": "code",
   "execution_count": null,
   "outputs": [],
   "source": [
    "UNRELATED = [\n",
    "    \"This roller coaster is very fun\",\n",
    "    \"The hill drops into a loop\",\n",
    "    \"The car moves along the path\",\n",
    "]\n",
    "\n",
    "samples = editor.template(\n",
    "    \"{unrelated}.\",\n",
    "    unrelated = UNRELATED\n",
    ")\n",
    "\n",
    "data += getData(samples, {\"PE\": \"Not Found\", \"KE\": \"Not Found\", \"LCE\": \"Not Found\"})\n",
    "\n",
    "writeData(\"Knowledge\", \"MFT\", \"Insufficient definitions\", data)"
   ],
   "metadata": {
    "collapsed": false
   }
  },
  {
   "cell_type": "markdown",
   "source": [
    "## Directional Tests\n",
    "\n",
    "### Acceptable definitions followed by unacceptable definition\n",
    "Acceptable -> Unacceptable"
   ],
   "metadata": {
    "collapsed": false
   },
   "id": "2ba286361caabaed"
  },
  {
   "cell_type": "code",
   "execution_count": null,
   "outputs": [],
   "source": [
    "samples = editor.template(\n",
    "    \"Potential energy is {pe_acceptable}. Potential energy is {pe_unacceptable}.\",\n",
    "    pe_acceptable=PE_ACCEPTABLE, pe_unacceptable=PE_UNACCEPTABLE\n",
    ")\n",
    "data = getData(samples, {\"PE\": \"Acceptable\", \"KE\": \"Not Found\", \"LCE\": \"Not Found\"})\n",
    "\n",
    "samples = editor.template(\n",
    "    \"Kinetic energy is {ke_acceptable}. Kinetic energy is {ke_unacceptable}.\",\n",
    "    ke_acceptable=KE_ACCEPTABLE, ke_unacceptable=KE_UNACCEPTABLE\n",
    ")\n",
    "data += getData(samples, {\"PE\": \"Not Found\", \"KE\": \"Acceptable\", \"LCE\": \"Not Found\"})\n",
    "\n",
    "samples = editor.template(\n",
    "    \"The Law of Conservation of energy states {lce_acceptable}. The Law of Conservation of energy states {lce_unacceptable}.\",\n",
    "    lce_acceptable=LCE_ACCEPTABLE, lce_unacceptable=LCE_UNACCEPTABLE,\n",
    ")\n",
    "data += getData(samples, {\"PE\": \"Not Found\", \"KE\": \"Not Found\", \"LCE\": \"Acceptable\"})\n",
    "\n",
    "writeData(\"Knowledge\", \"DIR\", \"Correct definition followed by incorrect\", data)"
   ],
   "metadata": {
    "collapsed": false
   },
   "id": "da6509b1ae653c3f"
  },
  {
   "cell_type": "markdown",
   "source": [
    "### Unacceptable Definition followed by acceptable definition\n",
    "Unacceptable -> acceptable"
   ],
   "metadata": {
    "collapsed": false
   },
   "id": "d2ed8ca72905cc93"
  },
  {
   "cell_type": "code",
   "execution_count": null,
   "outputs": [],
   "source": [
    "# code\n",
    "samples = editor.template(\n",
    "    \"Potential energy is {pe_unacceptable}. Potential energy is {pe_acceptable}\",\n",
    "    pe_acceptable=PE_ACCEPTABLE, pe_unacceptable=PE_UNACCEPTABLE\n",
    ")\n",
    "data = getData(samples, {\"PE\": \"Acceptable\", \"KE\": \"Not Found\", \"LCE\": \"Not Found\"})\n",
    "\n",
    "samples = editor.template(\n",
    "    \"Kinetic energy is {ke_unacceptable}. Kinetic energy is {ke_acceptable}\",\n",
    "    ke_acceptable=KE_ACCEPTABLE, ke_unacceptable=KE_UNACCEPTABLE\n",
    ")\n",
    "data += getData(samples, {\"PE\": \"Not Found\", \"KE\": \"Acceptable\", \"LCE\": \"Not Found\"})\n",
    "\n",
    "samples = editor.template(\n",
    "    \"The Law of Conservation of energy states {lce_unacceptable}. The Law of Conservation of energy states {lce_acceptable}\",\n",
    "    lce_acceptable=LCE_ACCEPTABLE, lce_unacceptable=LCE_UNACCEPTABLE,\n",
    ")\n",
    "data += getData(samples, {\"PE\": \"Not Found\", \"KE\": \"Not Found\", \"LCE\": \"Acceptable\"})\n",
    "\n",
    "writeData(\"Knowledge\", \"DIR\", \"Incorrect definition followed by correct\", data)"
   ],
   "metadata": {
    "collapsed": false
   },
   "id": "989899741afb0f9a"
  },
  {
   "cell_type": "markdown",
   "source": [
    "### Insufficient definition followed by acceptable definition\n",
    "Insufficient -> acceptable"
   ],
   "metadata": {
    "collapsed": false
   },
   "id": "1ab3f4e8a0fe33b1"
  },
  {
   "cell_type": "code",
   "execution_count": null,
   "outputs": [],
   "source": [
    "# code\n",
    "samples = editor.template(\n",
    "    \"Potential energy is {pe_insufficient}. Potential energy is {pe_acceptable}\",\n",
    "    pe_insufficient=PE_INSUFFICIENT, pe_acceptable=PE_ACCEPTABLE\n",
    ")\n",
    "data = getData(samples, {\"PE\": \"Acceptable\", \"KE\": \"Not Found\", \"LCE\": \"Not Found\"})\n",
    "\n",
    "samples = editor.template(\n",
    "    \"Kinetic energy is {ke_insufficient}. Kinetic energy is {ke_acceptable}\",\n",
    "    ke_insufficient=KE_INSUFFICIENT, ke_acceptable=KE_ACCEPTABLE\n",
    ")\n",
    "data += getData(samples, {\"PE\": \"Not Found\", \"KE\": \"Acceptable\", \"LCE\": \"Not Found\"})\n",
    "\n",
    "samples = editor.template(\n",
    "    \"The Law of Conservation of energy states {lce_insufficient}. The Law of Conservation of energy states {lce_acceptable}\",\n",
    "    lce_insufficient=LCE_INSUFFICIENT, lce_acceptable=LCE_ACCEPTABLE,\n",
    ")\n",
    "data += getData(samples, {\"PE\": \"Not Found\", \"KE\": \"Not Found\", \"LCE\": \"Acceptable\"})\n",
    "\n",
    "writeData(\"Knowledge\", \"DIR\", \"Insufficient definition followed by correct\", data)"
   ],
   "metadata": {
    "collapsed": false
   },
   "id": "3c3c4d79e3a0f5d"
  },
  {
   "cell_type": "markdown",
   "source": [
    "### Insufficient definition followed by unacceptable definition\n",
    "Insufficient -> unacceptable"
   ],
   "metadata": {
    "collapsed": false
   },
   "id": "276f7a64598a9f88"
  },
  {
   "cell_type": "code",
   "execution_count": null,
   "outputs": [],
   "source": [
    "samples = editor.template(\n",
    "    \"Potential energy is {pe_insufficient}. Potential energy is {pe_unacceptable}\",\n",
    "    pe_insufficient=PE_INSUFFICIENT, pe_unacceptable=PE_UNACCEPTABLE\n",
    ")\n",
    "data = getData(samples, {\"PE\": \"Unacceptable\", \"KE\": \"Not Found\", \"LCE\": \"Not Found\"})\n",
    "\n",
    "samples = editor.template(\n",
    "    \"Kinetic energy is {ke_insufficient}. Kinetic energy is {ke_unacceptable}\",\n",
    "    ke_insufficient=KE_INSUFFICIENT, ke_unacceptable=KE_UNACCEPTABLE\n",
    ")\n",
    "data += getData(samples, {\"PE\": \"Not Found\", \"KE\": \"Unacceptable\", \"LCE\": \"Not Found\"})\n",
    "\n",
    "samples = editor.template(\n",
    "    \"The Law of Conservation of energy states {lce_insufficient}. The Law of Conservation of energy states {lce_unacceptable}\",\n",
    "    lce_insufficient=LCE_INSUFFICIENT, lce_unacceptable=LCE_UNACCEPTABLE,\n",
    ")\n",
    "data += getData(samples, {\"PE\": \"Not Found\", \"KE\": \"Not Found\", \"LCE\": \"Unacceptable\"})\n",
    "\n",
    "writeData(\"Knowledge\", \"DIR\", \"Insufficient definition followed by incorrect\", data)"
   ],
   "metadata": {
    "collapsed": false
   },
   "id": "7b675092d6c6ef69"
  },
  {
   "cell_type": "markdown",
   "source": [
    "# Negation\n",
    "\n",
    "## MFTs"
   ],
   "metadata": {
    "collapsed": false
   },
   "id": "97470dbd46d5f73d"
  },
  {
   "cell_type": "markdown",
   "source": [
    "### Negated acceptable definition\n",
    "Acceptable -> unacceptable"
   ],
   "metadata": {
    "collapsed": false
   },
   "id": "ce344ed80217b848"
  },
  {
   "cell_type": "code",
   "execution_count": null,
   "outputs": [],
   "source": [
    "samples = editor.template(\n",
    "    \"Potential energy is not {pe_acceptable}\",\n",
    "    pe_acceptable=PE_ACCEPTABLE\n",
    ")\n",
    "data = getData(samples, {\"PE\": \"Unacceptable\", \"KE\": \"Not Found\", \"LCE\": \"Not Found\"})\n",
    "\n",
    "samples = editor.template(\n",
    "    \"Kinetic energy is not {ke_acceptable}\",\n",
    "    ke_acceptable=KE_ACCEPTABLE\n",
    ")\n",
    "data += getData(samples, {\"PE\": \"Not Found\", \"KE\": \"Unacceptable\", \"LCE\": \"Not Found\"})\n",
    "\n",
    "samples = editor.template(\n",
    "    \"The Law of Conservation of energy does not state {lce_acceptable}.\",\n",
    "    lce_acceptable=LCE_ACCEPTABLE\n",
    ")\n",
    "data += getData(samples, {\"PE\": \"Not Found\", \"KE\": \"Not Found\", \"LCE\": \"Unacceptable\"})\n",
    "\n",
    "writeData(\"Negation\", \"MFT\", \"Negation of correct definitions\", data)"
   ],
   "metadata": {
    "collapsed": false
   },
   "id": "dca15f624a3cddc"
  },
  {
   "cell_type": "markdown",
   "source": [
    "### Negation of unacceptable definition\n",
    "unacceptable -> insufficient"
   ],
   "metadata": {
    "collapsed": false
   },
   "id": "bbfb2f9e0572072a"
  },
  {
   "cell_type": "code",
   "execution_count": null,
   "outputs": [],
   "source": [
    "samples = editor.template(\n",
    "    \"Potential energy is not {pe_unacceptable}\",\n",
    "    pe_unacceptable=PE_UNACCEPTABLE\n",
    ")\n",
    "data = getData(samples, {\"PE\": \"Insufficient\", \"KE\": \"Not Found\", \"LCE\": \"Not Found\"})\n",
    "\n",
    "samples = editor.template(\n",
    "    \"Kinetic energy is not {ke_unacceptable}\",\n",
    "    ke_unacceptable=KE_UNACCEPTABLE\n",
    ")\n",
    "data += getData(samples, {\"PE\": \"Not Found\", \"KE\": \"Insufficient\", \"LCE\": \"Not Found\"})\n",
    "\n",
    "samples = editor.template(\n",
    "    \"The Law of Conservation of energy does not state {lce_unacceptable}.\",\n",
    "    lce_unacceptable=LCE_UNACCEPTABLE\n",
    ")\n",
    "data += getData(samples, {\"PE\": \"Not Found\", \"KE\": \"Not Found\", \"LCE\": \"Insufficient\"})\n",
    "writeData(\"Negation\", \"MFT\", \"Negation of incorrect definitions\", data)"
   ],
   "metadata": {
    "collapsed": false
   },
   "id": "a17adfc87faeca0c"
  },
  {
   "cell_type": "markdown",
   "source": [
    "# Robustness\n",
    "\n",
    "## INV"
   ],
   "metadata": {
    "collapsed": false
   },
   "id": "c241e6cb1a490c1b"
  },
  {
   "cell_type": "markdown",
   "source": [
    "### Misspelling of words\n",
    "Should return the same label"
   ],
   "metadata": {
    "collapsed": false
   },
   "id": "5a7fbb4021d2dbaa"
  },
  {
   "cell_type": "markdown",
   "source": [
    "#### Acceptable definitions"
   ],
   "metadata": {
    "collapsed": false
   },
   "id": "6ff768fc8a6764a8"
  },
  {
   "cell_type": "code",
   "execution_count": null,
   "outputs": [],
   "source": [
    "PE_TYPO_CORRECT = [\n",
    "    \"pontenshul energy that body has becuse of its posiion relative to other bdies.\",\n",
    "    \"potental energy store in te car at the tp of the initl drp.\",\n",
    "]\n",
    "KE_TYPO_CORRECT = [\n",
    "    \"Kintic enery is energy tht the car hs bcase i is movng.\",\n",
    "    \"Kinetec enrgy is the wrk neded to acelerate the rolercoaser car from rest.\",\n",
    "]\n",
    "LCE_TYPO_CORRECT = [\n",
    "    \"the lw of consevashun of energy says that energy canot be create or destroy, ony transfomed.\",\n",
    "    \"the law of conversion of energy the totl energy of an isolated systm remain constnt.\",\n",
    "]\n",
    "\n",
    "samples = editor.template(\n",
    "    \"{pe_typo_correct}\",\n",
    "    pe_typo_correct=PE_TYPO_CORRECT\n",
    ")\n",
    "data = getData(samples, {\"PE\": \"Acceptable\", \"KE\": \"Not Found\", \"LCE\": \"Not Found\"})\n",
    "\n",
    "samples = editor.template(\n",
    "    \"{ke_typo_correct}\",\n",
    "    ke_typo_correct=KE_TYPO_CORRECT\n",
    ")\n",
    "data += getData(samples, {\"PE\": \"Not Found\", \"KE\": \"Acceptable\", \"LCE\": \"Not Found\"})\n",
    "\n",
    "samples = editor.template(\n",
    "    \"{lce_typo_correct}.\",\n",
    "    lce_typo_correct=LCE_TYPO_CORRECT\n",
    ")\n",
    "\n",
    "data += getData(samples, {\"PE\": \"Not Found\", \"KE\": \"Not Found\", \"LCE\": \"Acceptable\"})\n",
    "\n",
    "writeData(\"Robustness\", \"INV\", \"Misspelling of correct definitions\", data)"
   ],
   "metadata": {
    "collapsed": false
   },
   "id": "ea674b207f29e707"
  },
  {
   "cell_type": "markdown",
   "source": [
    "#### Unacceptable definitions"
   ],
   "metadata": {
    "collapsed": false
   },
   "id": "f52c65762ae53fd7"
  },
  {
   "cell_type": "code",
   "execution_count": null,
   "outputs": [],
   "source": [
    "PE_TYPO_INCORRECT = [\n",
    "    \"Potential energy i energy in moton.\",\n",
    "    \"Potentia energy is the energy lose as th car go down the hil.\",\n",
    "]\n",
    "KE_TYPO_INCORRECT = [\n",
    "    \"Kinetic enery is energy tht the car hs bcase i is movng.\",\n",
    "    \"Kinetic ergy is the wrk neded to acelerate the rolercoaser car from rest.\",\n",
    "\n",
    "]\n",
    "LCE_TYPO_INCORRECT = [\n",
    "    \"LCE says that energy canot be create or destroy, ony transfomed.\",\n",
    "    \"law of conserve energy state the totl energy of an isolated systm remain constnt.\",\n",
    "]\n",
    "\n",
    "samples = editor.template(\n",
    "    \"{pe_typo_incorrect}\",\n",
    "    pe_typo_incorrect=PE_TYPO_INCORRECT\n",
    ")\n",
    "data = getData(samples, {\"PE\": \"Unacceptable\", \"KE\": \"Not Found\", \"LCE\": \"Not Found\"})\n",
    "\n",
    "samples = editor.template(\n",
    "    \"{ke_typo_incorrect}\",\n",
    "    ke_typo_incorrect=KE_TYPO_INCORRECT\n",
    ")\n",
    "data += getData(samples, {\"PE\": \"Not Found\", \"KE\": \"Unacceptable\", \"LCE\": \"Not Found\"})\n",
    "\n",
    "samples = editor.template(\n",
    "    \"{lce_typo_incorrect}.\",\n",
    "    lce_typo_incorrect=LCE_TYPO_INCORRECT\n",
    ")\n",
    "data += getData(samples, {\"PE\": \"Not Found\", \"KE\": \"Not Found\", \"LCE\": \"Unacceptable\"})\n",
    "\n",
    "writeData(\"Robustness\", \"INV\", \"Misspelling of incorrect definitions\", data)"
   ],
   "metadata": {
    "collapsed": false
   },
   "id": "ebb56d47f57f470f"
  },
  {
   "cell_type": "markdown",
   "source": [
    "#### Insufficient definitions"
   ],
   "metadata": {
    "collapsed": false
   },
   "id": "d150c74046ed66e2"
  },
  {
   "cell_type": "code",
   "execution_count": null,
   "outputs": [],
   "source": [
    "PE_TYPO_INSUFFICIENT = [\n",
    "    \"The potentia energ at the top of te rollercoaer is 4.9 juls.\",\n",
    "    \"Potential enrgy is measur in jules.\",\n",
    "]\n",
    "KE_TYPO_INSUFFICIENT = [\n",
    "    \"The kinetic energy at the botom of the hile is 4.8 joul.\",\n",
    "    \"Kinetic nergy transfourms into heet thrugh fricton\",\n",
    "]\n",
    "LCE_TYPO_INSUFFICIENT = [\n",
    "    \"The potensial energy trainsforms in to kinetic energy becuz of the law of conservashun of energy.\",\n",
    "    \"As the car goes down the hill, some energ is lost to fricshiun as heat.\",\n",
    "]\n",
    "\n",
    "samples = editor.template(\n",
    "    \"{pe_typo_insufficient}\",\n",
    "    pe_typo_insufficient=PE_TYPO_INSUFFICIENT\n",
    ")\n",
    "data = getData(samples, {\"PE\": \"Insufficient\", \"KE\": \"Not Found\", \"LCE\": \"Not Found\"})\n",
    "\n",
    "samples = editor.template(\n",
    "    \"{ke_typo_insufficient}\",\n",
    "    ke_typo_insufficient=KE_TYPO_INSUFFICIENT\n",
    ")\n",
    "data += getData(samples, {\"PE\": \"Not Found\", \"KE\": \"Insufficient\", \"LCE\": \"Not Found\"})\n",
    "\n",
    "samples = editor.template(\n",
    "    \"{lce_typo_insufficient}.\",\n",
    "    lce_typo_insufficient=LCE_TYPO_INSUFFICIENT\n",
    ")\n",
    "data += getData(samples, {\"PE\": \"Not Found\", \"KE\": \"Not Found\", \"LCE\": \"Insufficient\"})\n",
    "\n",
    "writeData(\"Robustness\", \"INV\", \"Misspelling of insufficient definitions\", data)"
   ],
   "metadata": {
    "collapsed": false
   },
   "id": "a1ec8081965462e4"
  },
  {
   "cell_type": "markdown",
   "source": [
    "### Using acronyms should not change label\n",
    "Potential energy -> PE\n",
    "Kinetic energy -> KE\n",
    "Law of Conservation of energy -> LCE\n",
    "#### Acceptable definitions\n",
    "acceptable -> acceptable"
   ],
   "metadata": {
    "collapsed": false
   }
  },
  {
   "cell_type": "code",
   "execution_count": null,
   "outputs": [],
   "source": [
    "PE_ACRONYM_CORRECT = [\n",
    "    \"PE is energy at rest.\",\n",
    "    \"PE is energy that a body has because of its position relative to other bodies.\",\n",
    "]\n",
    "KE_ACRONYM_CORRECT = [\n",
    "    \"KE is energy in motion.\",\n",
    "    \"KE is the energy that the car has because it is moving.\",\n",
    "]\n",
    "LCE_ACRONYM_CORRECT = [\n",
    "    \"LCE says that energy cannot be created or destroyed, only transformed.\",\n",
    "    \"LCE states that the total energy of an isolated system remains constant.\",\n",
    "]\n",
    "\n",
    "samples = editor.template(\n",
    "    \"{pe_acro_correct}\",\n",
    "    pe_acro_correct=PE_ACRONYM_CORRECT\n",
    ")\n",
    "data = getData(samples, {\"PE\": \"Acceptable\", \"KE\": \"Not Found\", \"LCE\": \"Not Found\"})\n",
    "\n",
    "samples = editor.template(\n",
    "    \"{ke_acro_correct}\",\n",
    "    ke_acro_correct=KE_ACRONYM_CORRECT\n",
    ")\n",
    "data += getData(samples, {\"PE\": \"Not Found\", \"KE\": \"Acceptable\", \"LCE\": \"Not Found\"})\n",
    "\n",
    "samples = editor.template(\n",
    "    \"{lce_acro_correct}.\",\n",
    "    lce_acro_correct=LCE_ACRONYM_CORRECT\n",
    ")\n",
    "\n",
    "data += getData(samples, {\"PE\": \"Not Found\", \"KE\": \"Not Found\", \"LCE\": \"Acceptable\"})\n",
    "\n",
    "writeData(\"Robustness\", \"INV\", \"Acronyms of acceptable definitions\", data)"
   ],
   "metadata": {
    "collapsed": false
   }
  },
  {
   "cell_type": "markdown",
   "source": [
    "#### Unacceptable definitions\n",
    "Unacceptable -> unacceptable"
   ],
   "metadata": {
    "collapsed": false
   }
  },
  {
   "cell_type": "code",
   "execution_count": null,
   "outputs": [],
   "source": [
    "PE_ACRONYM_INCORRECT = [\n",
    "    \"PE is energy in motion.\",\n",
    "    \"PE is the energy lost as the car goes down the hill.\",\n",
    "]\n",
    "KE_ACRONYM_INCORRECT = [\n",
    "    \"Kinetic energy is energy at rest.\",\n",
    "    \"Kinetic energy is never lost or gained as the car moves through the rollercoaster.\",\n",
    "]\n",
    "LCE_ACRONYM_INCORRECT = [\n",
    "    \"The law of conservation of energy says that energy can be created and destroyed.\",\n",
    "    \"The law of conservation of energy states that the energy of a closed system will change.\",\n",
    "]\n",
    "\n",
    "samples = editor.template(\n",
    "    \"{pe_acro_incorrect}\",\n",
    "    pe_acro_incorrect=PE_ACRONYM_INCORRECT\n",
    ")\n",
    "data = getData(samples, {\"PE\": \"Acceptable\", \"KE\": \"Not Found\", \"LCE\": \"Not Found\"})\n",
    "\n",
    "samples = editor.template(\n",
    "    \"{ke_acro_incorrect}\",\n",
    "    ke_acro_incorrect=KE_ACRONYM_INCORRECT\n",
    ")\n",
    "data += getData(samples, {\"PE\": \"Not Found\", \"KE\": \"Acceptable\", \"LCE\": \"Not Found\"})\n",
    "\n",
    "samples = editor.template(\n",
    "    \"{lce_acro_incorrect}.\",\n",
    "    lce_acro_incorrect=LCE_ACRONYM_INCORRECT\n",
    ")\n",
    "\n",
    "data += getData(samples, {\"PE\": \"Not Found\", \"KE\": \"Not Found\", \"LCE\": \"Acceptable\"})\n",
    "\n",
    "writeData(\"Robustness\", \"INV\", \"Acronyms of unacceptable definitions\", data)"
   ],
   "metadata": {
    "collapsed": false
   }
  },
  {
   "cell_type": "markdown",
   "source": [
    "#### Insufficient definitions\n",
    "Insufficient -> Insufficient"
   ],
   "metadata": {
    "collapsed": false
   }
  },
  {
   "cell_type": "code",
   "execution_count": null,
   "outputs": [],
   "source": [
    "PE_ACRONYM_INSUFFICIENT = [\n",
    "    \"PE at the top of the rollercoaster is 4.9 joules.\",\n",
    "    \"PE is measured in joules.\"\n",
    "]\n",
    "KE_ACRONYM_INSUFFICIENT = [\n",
    "    \"KE at the bottom of the hill is 4.8 joules.\",\n",
    "    \"KE is measured in joules.\",\n",
    "]\n",
    "LCE_ACRONYM_INSUFFICIENT = [\n",
    "    \"LCE states that the potential energy transforms into kinetic energy.\",\n",
    "]\n",
    "\n",
    "samples = editor.template(\n",
    "    \"{pe_acro_insufficient}\",\n",
    "    pe_acro_insufficient=PE_ACRONYM_INSUFFICIENT\n",
    ")\n",
    "data = getData(samples, {\"PE\": \"Acceptable\", \"KE\": \"Not Found\", \"LCE\": \"Not Found\"})\n",
    "\n",
    "samples = editor.template(\n",
    "    \"{ke_acro_insufficient}\",\n",
    "    ke_acro_insufficient=KE_ACRONYM_INSUFFICIENT\n",
    ")\n",
    "data += getData(samples, {\"PE\": \"Not Found\", \"KE\": \"Acceptable\", \"LCE\": \"Not Found\"})\n",
    "\n",
    "samples = editor.template(\n",
    "    \"{lce_acro_insufficient}.\",\n",
    "    lce_acro_insufficient=LCE_ACRONYM_INSUFFICIENT\n",
    ")\n",
    "\n",
    "data += getData(samples, {\"PE\": \"Not Found\", \"KE\": \"Not Found\", \"LCE\": \"Acceptable\"})\n",
    "\n",
    "writeData(\"Robustness\", \"INV\", \"Acronyms of unacceptable definitions\", data)"
   ],
   "metadata": {
    "collapsed": false
   }
  },
  {
   "cell_type": "markdown",
   "source": [
    "# Taxonomy\n",
    "\n",
    "## INV\n",
    "### Replacing words with synonyms\n",
    "#### Acceptable definition"
   ],
   "metadata": {
    "collapsed": false
   },
   "id": "cbfb57d037dd6990"
  },
  {
   "cell_type": "code",
   "execution_count": null,
   "outputs": [],
   "source": [
    "PE_SYNONYM_CORRECT = [\n",
    "    \"energy that a body has because of its position relative to other bodies.\",\n",
    "    \"energy inside the car at the top of the initial drop.\",\n",
    "]\n",
    "KE_SYNONYM_CORRECT = [\n",
    "    \"energy that the vehicle has because it is moving.\",\n",
    "    \"the work needed to change the speed the rollercoaster car from rest.\",\n",
    "]\n",
    "LCE_SYNONYM_CORRECT = [\n",
    "    \"that energy can be turned from one form to another, but never created or destroyed.\",\n",
    "    \"that if there were no rubbing, the potential energy at the top of the rollercoaster.\",\n",
    "    \"would equal to the kinetic energy at the bottom of the drop.\",\n",
    "]\n",
    "\n",
    "samples = editor.template(\n",
    "    \"Potential energy is {pe_synonym_correct}\",\n",
    "    pe_synonym_correct=PE_SYNONYM_CORRECT\n",
    ")\n",
    "data = getData(samples, {\"PE\": \"Acceptable\", \"KE\": \"Not Found\", \"LCE\": \"Not Found\"})\n",
    "\n",
    "samples = editor.template(\n",
    "    \"Kinetic energy is {ke_synonym_correct}\",\n",
    "    ke_synonym_correct=KE_SYNONYM_CORRECT\n",
    ")\n",
    "data += getData(samples, {\"PE\": \"Not Found\", \"KE\": \"Acceptable\", \"LCE\": \"Not Found\"})\n",
    "\n",
    "samples = editor.template(\n",
    "    \"The Law of Conservation of energy states {lce_synonym_correct}.\",\n",
    "    lce_synonym_correct=LCE_SYNONYM_CORRECT\n",
    ")\n",
    "data += getData(samples, {\"PE\": \"Not Found\", \"KE\": \"Not Found\", \"LCE\": \"Acceptable\"})\n",
    "\n",
    "writeData(\"Taxonomy\", \"INV\", \"Synonyms within correct definitions\", data)"
   ],
   "metadata": {
    "collapsed": false
   },
   "id": "e1cdc05e36746ed8"
  },
  {
   "cell_type": "markdown",
   "source": [
    "#### Unacceptable definition"
   ],
   "metadata": {
    "collapsed": false
   },
   "id": "e2bf99c931d5e20"
  },
  {
   "cell_type": "code",
   "execution_count": null,
   "outputs": [],
   "source": [
    "PE_SYNONYM_INCORRECT = [\n",
    "    \"the energy lost as the car rolls down the hill.\",\n",
    "    \"the opposite of kinetic energy.\",\n",
    "]\n",
    "KE_SYNONYM_INCORRECT = [\n",
    "    \"never lost or gained as the car moves through the rollercoaster.\",\n",
    "    \"the opposite of potential energy.\",\n",
    "]\n",
    "LCE_SYNONYM_INCORRECT = [\n",
    "    \"that energy can be made and taken.\",\n",
    "    \"that the energy of a closed system will differ.\",\n",
    "    \"that in an open system, energy is constant\",\n",
    "]\n",
    "\n",
    "samples = editor.template(\n",
    "    \"Potential energy is {pe_synonym_incorrect}\",\n",
    "    pe_synonym_incorrect=PE_SYNONYM_INCORRECT\n",
    ")\n",
    "data = getData(samples, {\"PE\": \"Unacceptable\", \"KE\": \"Not Found\", \"LCE\": \"Not Found\"})\n",
    "\n",
    "samples = editor.template(\n",
    "    \"Kinetic energy is {ke_synonym_incorrect}\",\n",
    "    ke_synonym_incorrect=KE_SYNONYM_INCORRECT\n",
    ")\n",
    "data += getData(samples, {\"PE\": \"Not Found\", \"KE\": \"Unacceptable\", \"LCE\": \"Not Found\"})\n",
    "\n",
    "samples = editor.template(\n",
    "    \"The Law of Conservation of energy states {lce_synonym_incorrect}.\",\n",
    "    lce_synonym_incorrect=LCE_SYNONYM_INCORRECT\n",
    ")\n",
    "data += getData(samples, {\"PE\": \"Not Found\", \"KE\": \"Not Found\", \"LCE\": \"Unacceptable\"})\n",
    "\n",
    "writeData(\"Taxonomy\", \"INV\", \"Synonyms within incorrect definitions\", data)"
   ],
   "metadata": {
    "collapsed": false
   },
   "id": "f1a2bad51427327a"
  },
  {
   "cell_type": "markdown",
   "source": [
    "#### Insufficient definition"
   ],
   "metadata": {
    "collapsed": false
   },
   "id": "9795ded78d2924fe"
  },
  {
   "cell_type": "code",
   "execution_count": null,
   "outputs": [],
   "source": [
    "PE_SYNONYM_INSUFFICIENT = [\n",
    "    \"The potential energy at the tip of the rollercoaster is 4.9 joules.\",\n",
    "    \"Potential energy is calculated in joules.\",\n",
    "]\n",
    "KE_SYNONYM_INSUFFICIENT = [\n",
    "    \"There is higher kinetic energy at the bottom of the hill than at the top.\",\n",
    "    \"Kinetic energy turns into heat through friction\",\n",
    "]\n",
    "LCE_SYNONYM_INSUFFICIENT = [\n",
    "    \"As the car goes down the hill, some energy does away to friction as heat.\",\n",
    "    \"If there were no friction, the energy would stay the same.\",\n",
    "]\n",
    "\n",
    "samples = editor.template(\n",
    "    \"{pe_synonym_insufficient}\",\n",
    "    pe_synonym_insufficient=PE_SYNONYM_INSUFFICIENT\n",
    ")\n",
    "data = getData(samples, {\"PE\": \"Insufficient\", \"KE\": \"Not Found\", \"LCE\": \"Not Found\"})\n",
    "\n",
    "samples = editor.template(\n",
    "    \"{ke_synonym_insufficient}\",\n",
    "    ke_synonym_insufficient=KE_SYNONYM_INSUFFICIENT\n",
    ")\n",
    "data += getData(samples, {\"PE\": \"Not Found\", \"KE\": \"Insufficient\", \"LCE\": \"Not Found\"})\n",
    "\n",
    "samples = editor.template(\n",
    "    \"{lce_synonym_insufficient}.\",\n",
    "    lce_synonym_insufficient=LCE_SYNONYM_INSUFFICIENT\n",
    ")\n",
    "data += getData(samples, {\"PE\": \"Not Found\", \"KE\": \"Not Found\", \"LCE\": \"Insufficient\"})\n",
    "\n",
    "writeData(\"Taxonomy\", \"INV\", \"Synonyms within insufficient definitions\", data)"
   ],
   "metadata": {
    "collapsed": false
   },
   "id": "e1ddd48ef0d53703"
  },
  {
   "cell_type": "markdown",
   "source": [
    "### Replacing words with negated antonym\n",
    "Label should remain the same\n",
    "#### Acceptable definitions\n",
    "Acceptable -> Acceptable"
   ],
   "metadata": {
    "collapsed": false
   }
  },
  {
   "cell_type": "code",
   "execution_count": null,
   "outputs": [],
   "source": [
    "PE_NEGANT_CORRECT = [\n",
    "    \"energy that a body does not lack because of its position relative to other bodies.\",\n",
    "    \"energy not outside the car at the top of the initial drop.\",\n",
    "]\n",
    "KE_NEGANT_CORRECT = [\n",
    "    \"energy that the car has because it is not still.\",\n",
    "    \"the work needed to change the speed the rollercoaster car from not moving.\",\n",
    "]\n",
    "LCE_NEGANT_CORRECT = [\n",
    "    \"that energy can be transformed from one form to another, but not ever created or destroyed.\",\n",
    "    \"that the total energy of an isolated system remains not variable.\",\n",
    "]\n",
    "\n",
    "samples = editor.template(\n",
    "    \"Potential energy is {pe_negant_correct}\",\n",
    "    pe_negant_correct=PE_NEGANT_CORRECT\n",
    ")\n",
    "data = getData(samples, {\"PE\": \"Acceptable\", \"KE\": \"Not Found\", \"LCE\": \"Not Found\"})\n",
    "\n",
    "samples = editor.template(\n",
    "    \"Kinetic energy is {ke_negant_correct}\",\n",
    "    ke_negant_correct=KE_NEGANT_CORRECT\n",
    ")\n",
    "data += getData(samples, {\"PE\": \"Not Found\", \"KE\": \"Acceptable\", \"LCE\": \"Not Found\"})\n",
    "\n",
    "samples = editor.template(\n",
    "    \"The Law of Conservation of energy states {lce_negant_correct}.\",\n",
    "    lce_negant_correct=LCE_NEGANT_CORRECT\n",
    ")\n",
    "data += getData(samples, {\"PE\": \"Not Found\", \"KE\": \"Not Found\", \"LCE\": \"Acceptable\"})\n",
    "\n",
    "writeData(\"Taxonomy\", \"INV\", \"Negated antonyms within correct definitions\", data)"
   ],
   "metadata": {
    "collapsed": false
   }
  },
  {
   "cell_type": "markdown",
   "source": [
    "#### Unacceptable definitions\n",
    "Unacceptable -> unacceptable"
   ],
   "metadata": {
    "collapsed": false
   }
  },
  {
   "cell_type": "code",
   "execution_count": null,
   "outputs": [],
   "source": [
    "PE_NEGANT_INCORRECT = [\n",
    "    \"energy not stationary.\",\n",
    "    \"not the same as kinetic energy.\",\n",
    "]\n",
    "KE_NEGANT_INCORRECT = [\n",
    "    \"energy not in motion.\",\n",
    "    \"not the same as potential energy.\",\n",
    "]\n",
    "LCE_NEGANT_INCORRECT = [\n",
    "    \"that the energy of a not open system will change.\",\n",
    "    \"that in a not closed system, energy is conserved\",\n",
    "]\n",
    "\n",
    "samples = editor.template(\n",
    "    \"Potential energy is {pe_negant_incorrect}\",\n",
    "    pe_negant_incorrect=PE_NEGANT_INCORRECT\n",
    ")\n",
    "data = getData(samples, {\"PE\": \"Unacceptable\", \"KE\": \"Not Found\", \"LCE\": \"Not Found\"})\n",
    "\n",
    "samples = editor.template(\n",
    "    \"Kinetic energy is {ke_negant_incorrect}\",\n",
    "    ke_negant_incorrect=KE_NEGANT_INCORRECT\n",
    ")\n",
    "data += getData(samples, {\"PE\": \"Not Found\", \"KE\": \"Unacceptable\", \"LCE\": \"Not Found\"})\n",
    "\n",
    "samples = editor.template(\n",
    "    \"The Law of Conservation of energy states {lce_negant_incorrect}.\",\n",
    "    lce_negant_incorrect=LCE_NEGANT_INCORRECT\n",
    ")\n",
    "data += getData(samples, {\"PE\": \"Not Found\", \"KE\": \"Not Found\", \"LCE\": \"Unacceptable\"})\n",
    "\n",
    "writeData(\"Taxonomy\", \"INV\", \"Negated antonyms within incorrect definitions\", data)"
   ],
   "metadata": {
    "collapsed": false
   }
  },
  {
   "cell_type": "markdown",
   "source": [],
   "metadata": {
    "collapsed": false
   },
   "id": "c161ad54c2446096"
  },
  {
   "cell_type": "markdown",
   "source": [
    "# Fairness\n",
    "\n",
    "## INV\n",
    "## Test for words being replaced in Spanish\n",
    "#### Acceptable definitions"
   ],
   "metadata": {
    "collapsed": false
   },
   "id": "71dfb35eb71edd4c"
  },
  {
   "cell_type": "code",
   "execution_count": null,
   "outputs": [],
   "source": [
    "PE_SPANISH_CORRECT = [\n",
    "    \"Potential energy is energy that a body has because of its position relativa a other bodies.\",\n",
    "    \"Potential energy is the stored energy of the rollercoaster car when no se esta moviendo.\",\n",
    "    \"Potential energy is energy that has the potential to convertirse en otro form of energy.\",\n",
    "]\n",
    "KE_SPANISH_CORRECT = [\n",
    "    \"Kinetic energy is the work necesario para accelerate the rollercoaster car from rest.\",\n",
    "    \"Kinetic energy is determined by the mass del carro and the velocity with which it is moving.\",\n",
    "    \"Kinetic energy quantifies the work an object performs debido a su movimiento\",\n",
    "]\n",
    "LCE_SPANISH_CORRECT = [\n",
    "    \"LCE states that energy can be convertida from one form to another, but never created or destroyed.\",\n",
    "    \"LCE says that if there were no friction, the potential energy en la cima del rollercoaster would be the same as the kinetic energy at the bottom of the drop.\",\n",
    "    \"LCE is a physical law that states that energy no se puede crear or destroyed but only transformed\",\n",
    "]\n",
    "\n",
    "samples = editor.template(\n",
    "    \"Potential energy is {pe_spanish_correct}\",\n",
    "    pe_spanish_correct=PE_SPANISH_CORRECT,\n",
    ")\n",
    "data = getData(samples, {\"PE\": \"Acceptable\", \"KE\": \"Not Found\", \"LCE\": \"Not Found\"})\n",
    "\n",
    "samples = editor.template(\n",
    "    \"Kinetic energy is {ke_spanish_correct}\",\n",
    "    ke_spanish_correct=KE_SPANISH_CORRECT\n",
    ")\n",
    "data += getData(samples, {\"PE\": \"Not Found\", \"KE\": \"Acceptable\", \"LCE\": \"Not Found\"})\n",
    "\n",
    "samples = editor.template(\n",
    "    \"The Law of Conservation of energy states {lce_spanish_correct}.\",\n",
    "    lce_spanish_correct=LCE_SPANISH_CORRECT\n",
    ")\n",
    "data += getData(samples, {\"PE\": \"Not Found\", \"KE\": \"Not Found\", \"LCE\": \"Acceptable\"})\n",
    "writeData(\"Fairness\", \"INV\", \"Spanish translation within correct definitions\", data)"
   ],
   "metadata": {
    "collapsed": false
   },
   "id": "13d86846d285ffd5"
  }
 ],
 "metadata": {
  "kernelspec": {
   "display_name": "Python 3",
   "language": "python",
   "name": "python3"
  },
  "language_info": {
   "codemirror_mode": {
    "name": "ipython",
    "version": 2
   },
   "file_extension": ".py",
   "mimetype": "text/x-python",
   "name": "python",
   "nbconvert_exporter": "python",
   "pygments_lexer": "ipython2",
   "version": "2.7.6"
  }
 },
 "nbformat": 4,
 "nbformat_minor": 5
}
